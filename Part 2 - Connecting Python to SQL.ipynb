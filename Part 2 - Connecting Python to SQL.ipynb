{
 "cells": [
  {
   "cell_type": "markdown",
   "id": "e740b3bc",
   "metadata": {},
   "source": [
    "<h1>Que:1"
   ]
  },
  {
   "cell_type": "markdown",
   "id": "4e245513",
   "metadata": {},
   "source": [
    "# Write a query to show the quantity of items sold by each department. Sort the results by department name."
   ]
  },
  {
   "cell_type": "code",
   "execution_count": 3,
   "id": "a7d90bfd",
   "metadata": {},
   "outputs": [],
   "source": [
    "#import rquired lib\n",
    "import mysql.connector\n",
    "import pandas as pd\n",
    "\n",
    "# Establish a database connection\n",
    "\n",
    "conn = mysql.connector.connect(host='127.0.0.1', database='terpbuy', user='root', password='Birth@1993')\n"
   ]
  },
  {
   "cell_type": "code",
   "execution_count": 4,
   "id": "bfeff1d2",
   "metadata": {},
   "outputs": [
    {
     "name": "stderr",
     "output_type": "stream",
     "text": [
      "C:\\Users\\vimal.gondaliya\\AppData\\Local\\Temp\\ipykernel_24624\\1240415948.py:2: UserWarning: pandas only supports SQLAlchemy connectable (engine/connection) or database string URI or sqlite3 DBAPI2 connection. Other DBAPI2 objects are not tested. Please consider using SQLAlchemy.\n",
      "  df_quantity = pd.read_sql('SELECT d.department_name, SUM(ol.quantity_sold) AS total_quantity\\\n"
     ]
    },
    {
     "data": {
      "text/html": [
       "<div>\n",
       "<style scoped>\n",
       "    .dataframe tbody tr th:only-of-type {\n",
       "        vertical-align: middle;\n",
       "    }\n",
       "\n",
       "    .dataframe tbody tr th {\n",
       "        vertical-align: top;\n",
       "    }\n",
       "\n",
       "    .dataframe thead th {\n",
       "        text-align: right;\n",
       "    }\n",
       "</style>\n",
       "<table border=\"1\" class=\"dataframe\">\n",
       "  <thead>\n",
       "    <tr style=\"text-align: right;\">\n",
       "      <th></th>\n",
       "      <th>department_name</th>\n",
       "      <th>total_quantity</th>\n",
       "    </tr>\n",
       "  </thead>\n",
       "  <tbody>\n",
       "    <tr>\n",
       "      <th>0</th>\n",
       "      <td>Apparel</td>\n",
       "      <td>2336.0</td>\n",
       "    </tr>\n",
       "    <tr>\n",
       "      <th>1</th>\n",
       "      <td>Book Shop</td>\n",
       "      <td>12.0</td>\n",
       "    </tr>\n",
       "    <tr>\n",
       "      <th>2</th>\n",
       "      <td>Discs Shop</td>\n",
       "      <td>285.0</td>\n",
       "    </tr>\n",
       "    <tr>\n",
       "      <th>3</th>\n",
       "      <td>Fan Shop</td>\n",
       "      <td>2406.0</td>\n",
       "    </tr>\n",
       "    <tr>\n",
       "      <th>4</th>\n",
       "      <td>Fitness</td>\n",
       "      <td>244.0</td>\n",
       "    </tr>\n",
       "    <tr>\n",
       "      <th>5</th>\n",
       "      <td>Footwear</td>\n",
       "      <td>932.0</td>\n",
       "    </tr>\n",
       "    <tr>\n",
       "      <th>6</th>\n",
       "      <td>Golf</td>\n",
       "      <td>2355.0</td>\n",
       "    </tr>\n",
       "    <tr>\n",
       "      <th>7</th>\n",
       "      <td>Health and Beauty</td>\n",
       "      <td>64.0</td>\n",
       "    </tr>\n",
       "    <tr>\n",
       "      <th>8</th>\n",
       "      <td>Outdoors</td>\n",
       "      <td>812.0</td>\n",
       "    </tr>\n",
       "    <tr>\n",
       "      <th>9</th>\n",
       "      <td>Pet Shop</td>\n",
       "      <td>54.0</td>\n",
       "    </tr>\n",
       "    <tr>\n",
       "      <th>10</th>\n",
       "      <td>Technology</td>\n",
       "      <td>39.0</td>\n",
       "    </tr>\n",
       "  </tbody>\n",
       "</table>\n",
       "</div>"
      ],
      "text/plain": [
       "       department_name  total_quantity\n",
       "0              Apparel          2336.0\n",
       "1            Book Shop            12.0\n",
       "2           Discs Shop           285.0\n",
       "3             Fan Shop          2406.0\n",
       "4              Fitness           244.0\n",
       "5             Footwear           932.0\n",
       "6                 Golf          2355.0\n",
       "7   Health and Beauty             64.0\n",
       "8             Outdoors           812.0\n",
       "9             Pet Shop            54.0\n",
       "10          Technology            39.0"
      ]
     },
     "execution_count": 4,
     "metadata": {},
     "output_type": "execute_result"
    }
   ],
   "source": [
    "# SQL query to calculate the quantity of items sold by each department\n",
    "df_quantity = pd.read_sql('SELECT d.department_name, SUM(ol.quantity_sold) AS total_quantity\\\n",
    "    FROM department d\\\n",
    "    JOIN product p ON d.department_id = p.department_id\\\n",
    "    JOIN order_line ol ON p.product_id = ol.product_id\\\n",
    "    GROUP BY d.department_name\\\n",
    "    ORDER BY d.department_name;', conn)\n",
    "df_quantity"
   ]
  },
  {
   "cell_type": "code",
   "execution_count": null,
   "id": "bb71f22b",
   "metadata": {},
   "outputs": [],
   "source": []
  },
  {
   "cell_type": "markdown",
   "id": "b1d8cc62",
   "metadata": {},
   "source": [
    "<h1>Que:2"
   ]
  },
  {
   "cell_type": "markdown",
   "id": "89101b7d",
   "metadata": {},
   "source": [
    "# Using the query you wrote in Question 1, create a data visualization (e.g., a bar chart) showing all departments and the number of items each of them sold. Using a markdown cell, explain what you observe from the analysis."
   ]
  },
  {
   "cell_type": "code",
   "execution_count": 5,
   "id": "b99d7541",
   "metadata": {},
   "outputs": [],
   "source": [
    "#import rquired lib\n",
    "import mysql.connector\n",
    "import pandas as pd\n",
    "import matplotlib.pyplot as plt\n",
    "\n",
    "# Establish a database connection\n",
    "\n",
    "conn = mysql.connector.connect(host='127.0.0.1', database='terpbuy', user='root', password='Birth@1993')\n"
   ]
  },
  {
   "cell_type": "code",
   "execution_count": 6,
   "id": "356266fb",
   "metadata": {},
   "outputs": [
    {
     "name": "stderr",
     "output_type": "stream",
     "text": [
      "C:\\Users\\vimal.gondaliya\\AppData\\Local\\Temp\\ipykernel_24624\\1240415948.py:2: UserWarning: pandas only supports SQLAlchemy connectable (engine/connection) or database string URI or sqlite3 DBAPI2 connection. Other DBAPI2 objects are not tested. Please consider using SQLAlchemy.\n",
      "  df_quantity = pd.read_sql('SELECT d.department_name, SUM(ol.quantity_sold) AS total_quantity\\\n"
     ]
    },
    {
     "data": {
      "text/html": [
       "<div>\n",
       "<style scoped>\n",
       "    .dataframe tbody tr th:only-of-type {\n",
       "        vertical-align: middle;\n",
       "    }\n",
       "\n",
       "    .dataframe tbody tr th {\n",
       "        vertical-align: top;\n",
       "    }\n",
       "\n",
       "    .dataframe thead th {\n",
       "        text-align: right;\n",
       "    }\n",
       "</style>\n",
       "<table border=\"1\" class=\"dataframe\">\n",
       "  <thead>\n",
       "    <tr style=\"text-align: right;\">\n",
       "      <th></th>\n",
       "      <th>department_name</th>\n",
       "      <th>total_quantity</th>\n",
       "    </tr>\n",
       "  </thead>\n",
       "  <tbody>\n",
       "    <tr>\n",
       "      <th>0</th>\n",
       "      <td>Apparel</td>\n",
       "      <td>2336.0</td>\n",
       "    </tr>\n",
       "    <tr>\n",
       "      <th>1</th>\n",
       "      <td>Book Shop</td>\n",
       "      <td>12.0</td>\n",
       "    </tr>\n",
       "    <tr>\n",
       "      <th>2</th>\n",
       "      <td>Discs Shop</td>\n",
       "      <td>285.0</td>\n",
       "    </tr>\n",
       "    <tr>\n",
       "      <th>3</th>\n",
       "      <td>Fan Shop</td>\n",
       "      <td>2406.0</td>\n",
       "    </tr>\n",
       "    <tr>\n",
       "      <th>4</th>\n",
       "      <td>Fitness</td>\n",
       "      <td>244.0</td>\n",
       "    </tr>\n",
       "    <tr>\n",
       "      <th>5</th>\n",
       "      <td>Footwear</td>\n",
       "      <td>932.0</td>\n",
       "    </tr>\n",
       "    <tr>\n",
       "      <th>6</th>\n",
       "      <td>Golf</td>\n",
       "      <td>2355.0</td>\n",
       "    </tr>\n",
       "    <tr>\n",
       "      <th>7</th>\n",
       "      <td>Health and Beauty</td>\n",
       "      <td>64.0</td>\n",
       "    </tr>\n",
       "    <tr>\n",
       "      <th>8</th>\n",
       "      <td>Outdoors</td>\n",
       "      <td>812.0</td>\n",
       "    </tr>\n",
       "    <tr>\n",
       "      <th>9</th>\n",
       "      <td>Pet Shop</td>\n",
       "      <td>54.0</td>\n",
       "    </tr>\n",
       "    <tr>\n",
       "      <th>10</th>\n",
       "      <td>Technology</td>\n",
       "      <td>39.0</td>\n",
       "    </tr>\n",
       "  </tbody>\n",
       "</table>\n",
       "</div>"
      ],
      "text/plain": [
       "       department_name  total_quantity\n",
       "0              Apparel          2336.0\n",
       "1            Book Shop            12.0\n",
       "2           Discs Shop           285.0\n",
       "3             Fan Shop          2406.0\n",
       "4              Fitness           244.0\n",
       "5             Footwear           932.0\n",
       "6                 Golf          2355.0\n",
       "7   Health and Beauty             64.0\n",
       "8             Outdoors           812.0\n",
       "9             Pet Shop            54.0\n",
       "10          Technology            39.0"
      ]
     },
     "execution_count": 6,
     "metadata": {},
     "output_type": "execute_result"
    }
   ],
   "source": [
    "# SQL query to calculate the quantity of items sold by each department\n",
    "df_quantity = pd.read_sql('SELECT d.department_name, SUM(ol.quantity_sold) AS total_quantity\\\n",
    "    FROM department d\\\n",
    "    JOIN product p ON d.department_id = p.department_id\\\n",
    "    JOIN order_line ol ON p.product_id = ol.product_id\\\n",
    "    GROUP BY d.department_name\\\n",
    "    ORDER BY d.department_name;', conn)\n",
    "df_quantity"
   ]
  },
  {
   "cell_type": "code",
   "execution_count": 13,
   "id": "efdfbb6a",
   "metadata": {},
   "outputs": [
    {
     "data": {
      "image/png": "[encoded data removed]",
      "text/plain": [
       "<Figure size 1000x600 with 1 Axes>"
      ]
     },
     "metadata": {},
     "output_type": "display_data"
    }
   ],
   "source": [
    "# Create a bar chart using DataFrame columns\n",
    "plt.figure(figsize=(10, 6))\n",
    "plt.bar(df_quantity['department_name'], df_quantity['total_quantity'], color='skyblue')\n",
    "plt.xlabel('Department Name')\n",
    "plt.ylabel('Total Quantity Sold')\n",
    "plt.title('Quantity of Items Sold by Each Department')\n",
    "plt.xticks(rotation=45, ha='right')\n",
    "plt.tight_layout()\n",
    "\n",
    "# Show the plot\n",
    "plt.show()\n"
   ]
  },
  {
   "cell_type": "markdown",
   "id": "f1a44ab5",
   "metadata": {},
   "source": [
    "<h1>Que:3\n",
    "  "
   ]
  },
  {
   "cell_type": "markdown",
   "id": "c67c3a18",
   "metadata": {},
   "source": [
    "# Write a query to show the number of orders placed in each year in which at least one order was placed. Hint: Search online to learn about MySQL’s YEAR() function to query data."
   ]
  },
  {
   "cell_type": "code",
   "execution_count": 5,
   "id": "3e939b27",
   "metadata": {},
   "outputs": [],
   "source": [
    "#import rquired lib\n",
    "import mysql.connector\n",
    "import pandas as pd\n",
    "import matplotlib.pyplot as plt\n",
    "\n",
    "# Establish a database connection\n",
    "\n",
    "conn = mysql.connector.connect(host='127.0.0.1', database='terpbuy', user='root', password='Birth@1993')\n"
   ]
  },
  {
   "cell_type": "code",
   "execution_count": 9,
   "id": "ecd4c89f",
   "metadata": {},
   "outputs": [
    {
     "name": "stderr",
     "output_type": "stream",
     "text": [
      "C:\\Users\\vimal.gondaliya\\AppData\\Local\\Temp\\ipykernel_1824\\1493860840.py:3: UserWarning: pandas only supports SQLAlchemy connectable (engine/connection) or database string URI or sqlite3 DBAPI2 connection. Other DBAPI2 objects are not tested. Please consider using SQLAlchemy.\n",
      "  order_data = pd.read_sql('SELECT YEAR(order_date) AS order_year, COUNT(*) AS order_count \\\n"
     ]
    }
   ],
   "source": [
    "\n",
    "# SQL query to show the number of orders placed in each year\n",
    "\n",
    "order_data = pd.read_sql('SELECT YEAR(order_date) AS order_year, COUNT(*) AS order_count \\\n",
    "                          FROM terpbuy.orders \\\n",
    "                          GROUP BY order_year \\\n",
    "                          ORDER BY order_year;', conn)\n",
    "\n"
   ]
  },
  {
   "cell_type": "code",
   "execution_count": 11,
   "id": "8325d96a",
   "metadata": {},
   "outputs": [
    {
     "data": {
      "text/html": [
       "<div>\n",
       "<style scoped>\n",
       "    .dataframe tbody tr th:only-of-type {\n",
       "        vertical-align: middle;\n",
       "    }\n",
       "\n",
       "    .dataframe tbody tr th {\n",
       "        vertical-align: top;\n",
       "    }\n",
       "\n",
       "    .dataframe thead th {\n",
       "        text-align: right;\n",
       "    }\n",
       "</style>\n",
       "<table border=\"1\" class=\"dataframe\">\n",
       "  <thead>\n",
       "    <tr style=\"text-align: right;\">\n",
       "      <th></th>\n",
       "      <th>order_year</th>\n",
       "      <th>order_count</th>\n",
       "    </tr>\n",
       "  </thead>\n",
       "  <tbody>\n",
       "    <tr>\n",
       "      <th>0</th>\n",
       "      <td>2018</td>\n",
       "      <td>585</td>\n",
       "    </tr>\n",
       "    <tr>\n",
       "      <th>1</th>\n",
       "      <td>2019</td>\n",
       "      <td>708</td>\n",
       "    </tr>\n",
       "    <tr>\n",
       "      <th>2</th>\n",
       "      <td>2020</td>\n",
       "      <td>497</td>\n",
       "    </tr>\n",
       "    <tr>\n",
       "      <th>3</th>\n",
       "      <td>2021</td>\n",
       "      <td>362</td>\n",
       "    </tr>\n",
       "  </tbody>\n",
       "</table>\n",
       "</div>"
      ],
      "text/plain": [
       "   order_year  order_count\n",
       "0        2018          585\n",
       "1        2019          708\n",
       "2        2020          497\n",
       "3        2021          362"
      ]
     },
     "execution_count": 11,
     "metadata": {},
     "output_type": "execute_result"
    }
   ],
   "source": [
    "# print data frame\n",
    "\n",
    "order_data"
   ]
  },
  {
   "cell_type": "code",
   "execution_count": null,
   "id": "9d91a7be",
   "metadata": {},
   "outputs": [],
   "source": []
  },
  {
   "cell_type": "markdown",
   "id": "5a2c3e4e",
   "metadata": {},
   "source": [
    "<h1> Que:4"
   ]
  },
  {
   "cell_type": "markdown",
   "id": "4fdc2ef0",
   "metadata": {},
   "source": [
    "# Using the query you wrote in Question 3, create a data visualization (e.g., a line graph) showing all years and the number of orders placed during each year, to see if there is a trend in ordering. Using a markdown cell, explain what you observe from the analysis."
   ]
  },
  {
   "cell_type": "code",
   "execution_count": null,
   "id": "9b1b523c",
   "metadata": {},
   "outputs": [],
   "source": [
    "#import rquired lib\n",
    "import mysql.connector\n",
    "import pandas as pd\n",
    "import matplotlib.pyplot as plt\n",
    "\n",
    "# Establish a database connection\n",
    "\n",
    "conn = mysql.connector.connect(host='127.0.0.1', database='terpbuy', user='root', password='Birth@1993')\n"
   ]
  },
  {
   "cell_type": "code",
   "execution_count": 15,
   "id": "cee6098d",
   "metadata": {},
   "outputs": [
    {
     "name": "stderr",
     "output_type": "stream",
     "text": [
      "C:\\Users\\vimal.gondaliya\\AppData\\Local\\Temp\\ipykernel_1824\\146400556.py:3: UserWarning: pandas only supports SQLAlchemy connectable (engine/connection) or database string URI or sqlite3 DBAPI2 connection. Other DBAPI2 objects are not tested. Please consider using SQLAlchemy.\n",
      "  order_data = pd.read_sql('SELECT YEAR(order_date) AS order_year, COUNT(*) AS order_count \\\n"
     ]
    }
   ],
   "source": [
    "\n",
    "# SQL query to show the number of orders placed in each year\n",
    "\n",
    "order_data = pd.read_sql('SELECT YEAR(order_date) AS order_year, COUNT(*) AS order_count \\\n",
    "                          FROM terpbuy.orders \\\n",
    "                          GROUP BY order_year \\\n",
    "                          ORDER BY order_year;', conn)\n",
    "\n"
   ]
  },
  {
   "cell_type": "code",
   "execution_count": 16,
   "id": "d8982b18",
   "metadata": {},
   "outputs": [
    {
     "data": {
      "text/html": [
       "<div>\n",
       "<style scoped>\n",
       "    .dataframe tbody tr th:only-of-type {\n",
       "        vertical-align: middle;\n",
       "    }\n",
       "\n",
       "    .dataframe tbody tr th {\n",
       "        vertical-align: top;\n",
       "    }\n",
       "\n",
       "    .dataframe thead th {\n",
       "        text-align: right;\n",
       "    }\n",
       "</style>\n",
       "<table border=\"1\" class=\"dataframe\">\n",
       "  <thead>\n",
       "    <tr style=\"text-align: right;\">\n",
       "      <th></th>\n",
       "      <th>order_year</th>\n",
       "      <th>order_count</th>\n",
       "    </tr>\n",
       "  </thead>\n",
       "  <tbody>\n",
       "    <tr>\n",
       "      <th>0</th>\n",
       "      <td>2018</td>\n",
       "      <td>585</td>\n",
       "    </tr>\n",
       "    <tr>\n",
       "      <th>1</th>\n",
       "      <td>2019</td>\n",
       "      <td>708</td>\n",
       "    </tr>\n",
       "    <tr>\n",
       "      <th>2</th>\n",
       "      <td>2020</td>\n",
       "      <td>497</td>\n",
       "    </tr>\n",
       "    <tr>\n",
       "      <th>3</th>\n",
       "      <td>2021</td>\n",
       "      <td>362</td>\n",
       "    </tr>\n",
       "  </tbody>\n",
       "</table>\n",
       "</div>"
      ],
      "text/plain": [
       "   order_year  order_count\n",
       "0        2018          585\n",
       "1        2019          708\n",
       "2        2020          497\n",
       "3        2021          362"
      ]
     },
     "execution_count": 16,
     "metadata": {},
     "output_type": "execute_result"
    }
   ],
   "source": [
    "# print data frame\n",
    "\n",
    "order_data"
   ]
  },
  {
   "cell_type": "code",
   "execution_count": 39,
   "id": "75fe5bcf",
   "metadata": {},
   "outputs": [
    {
     "data": {
      "text/plain": [
       "Text(0.5, 1.0, 'Number of Orders Placed Each Year')"
      ]
     },
     "execution_count": 39,
     "metadata": {},
     "output_type": "execute_result"
    },
    {
     "data": {
      "image/png": "[encoded data removed]",
      "text/plain": [
       "<Figure size 1000x500 with 1 Axes>"
      ]
     },
     "metadata": {},
     "output_type": "display_data"
    }
   ],
   "source": [
    "# Create a line graph\n",
    "plt.figure(figsize=(10, 5))\n",
    "plt.plot(order_data['order_year'], order_data['order_count'], marker='o', linestyle='-')\n",
    "plt.xlabel('Year')\n",
    "plt.ylabel('Number of Orders')\n",
    "plt.title('Number of Orders Placed Each Year')\n"
   ]
  },
  {
   "cell_type": "code",
   "execution_count": 25,
   "id": "5fc2b9bf",
   "metadata": {},
   "outputs": [],
   "source": []
  }
 ],
 "metadata": {
  "celltoolbar": "Raw Cell Format",
  "kernelspec": {
   "display_name": "Python 3 (ipykernel)",
   "language": "python",
   "name": "python3"
  },
  "language_info": {
   "codemirror_mode": {
    "name": "ipython",
    "version": 3
   },
   "file_extension": ".py",
   "mimetype": "text/x-python",
   "name": "python",
   "nbconvert_exporter": "python",
   "pygments_lexer": "ipython3",
   "version": "3.10.9"
  }
 },
 "nbformat": 4,
 "nbformat_minor": 5
}
